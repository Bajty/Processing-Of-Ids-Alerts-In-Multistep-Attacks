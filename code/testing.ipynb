{
 "cells": [
  {
   "cell_type": "code",
   "execution_count": 1,
   "outputs": [
    {
     "name": "stderr",
     "output_type": "stream",
     "text": [
      "usage: ipykernel_launcher.py [-h] -c CONFIG\n",
      "ipykernel_launcher.py: error: the following arguments are required: -c/--config\n"
     ]
    },
    {
     "ename": "SystemExit",
     "evalue": "2",
     "output_type": "error",
     "traceback": [
      "An exception has occurred, use %tb to see the full traceback.\n",
      "\u001B[0;31mSystemExit\u001B[0m\u001B[0;31m:\u001B[0m 2\n"
     ]
    },
    {
     "name": "stderr",
     "output_type": "stream",
     "text": [
      "/home/ferik/.local/share/virtualenvs/tomas-bajtos-projekt-R9kYtVgK/lib/python3.8/site-packages/IPython/core/interactiveshell.py:3516: UserWarning: To exit: use 'exit', 'quit', or Ctrl-D.\n",
      "  warn(\"To exit: use 'exit', 'quit', or Ctrl-D.\", stacklevel=1)\n"
     ]
    }
   ],
   "source": [
    "import pandas as pd\n",
    "import numpy as np\n",
    "from tasks import perc_diff\n",
    "import uuid\n",
    "import argparse\n",
    "import os\n",
    "from datetime import datetime\n",
    "\n",
    "from tasks import (\n",
    "    load_config,\n",
    "    load_dataset_iscx,\n",
    "    get_quantity,\n",
    "    get_days,\n",
    "    get_counts_days,\n",
    "    get_counts_hours,\n",
    "    get_counts_hours_sub_mean_benign,\n",
    "    check_filters\n",
    ")\n",
    "from filter import (\n",
    "    filter_all_days_stats,\n",
    "    filter_perc_count\n",
    ")\n",
    "\n",
    "# add flag option for donfig json file\n",
    "parser = argparse.ArgumentParser()\n",
    "parser.add_argument(\"-c\", \"--config\", required=True, help=\"Path to config file\", dest=\"config\")\n",
    "args = parser.parse_args()\n",
    "config = args.config\n",
    "\n",
    "config = load_config(config)\n",
    "\n",
    "dataset_path = config['dataset']\n",
    "dataset_config = load_config(f'{dataset_path}config.json')\n",
    "\n",
    "data, benign_days = load_dataset_iscx(dataset_path=dataset_path, inputs=dataset_config['inputs'],\n",
    "                                      inputs_benign=dataset_config['inputs_benign'], headers=dataset_config['headers'])\n",
    "quantity = get_quantity(data=data, columns=[\"rule_name\", \"sid\"])\n",
    "\n",
    "days = get_days(data=data)\n",
    "if check_filters(config['filters'], dataset_config['filters']):\n",
    "\n",
    "    for filter in config['filters']:\n",
    "        if filter == 'all_days':\n",
    "            group_cols = dataset_config['filters'][filter]['group_cols']\n",
    "            stats = get_counts_days(data=data, group_cols=group_cols)\n",
    "        elif filter == 'count_hours':\n",
    "            group_cols = dataset_config['filters'][filter]['group_cols']\n",
    "            stats = get_counts_hours(data=data, group_cols=group_cols)\n",
    "        elif filter == 'count_hours_except_first_day':\n",
    "            group_cols = dataset_config['filters'][filter]['group_cols']\n",
    "            except_first_day = sorted(days, key=lambda x: datetime.strptime(x, '%Y-%m-%d'))[1:]\n",
    "            stats = get_counts_hours_sub_mean_benign(data, group_cols=group_cols, benign_days=benign_days)\n",
    "            break\n",
    "        stats = stats.reset_index()\n",
    "        filtered_stats = filter_perc_count(stats, dataset_config['filters'][filter])\n",
    "        # print(filtered_stats)\n",
    "\n",
    "    # stats.to_csv('to_delete.csv')\n",
    "    # print(stats)\n",
    "\n",
    "    # print(filter_all_days_stats(data=stats_all_days_resind, conf=dataset_config['filters']['all_days']))\n",
    "\n",
    "    # FILTER\n",
    "    # print(stats_all_days)\n",
    "    # print(data)\n",
    "    \n",
    "stats\n"
   ],
   "metadata": {
    "collapsed": false,
    "ExecuteTime": {
     "end_time": "2023-10-10T13:14:22.255264371Z",
     "start_time": "2023-10-10T13:14:21.735679324Z"
    }
   },
   "id": "bbe7e9d4f26d0c29"
  },
  {
   "cell_type": "code",
   "execution_count": null,
   "outputs": [],
   "source": [],
   "metadata": {
    "collapsed": false
   },
   "id": "76f193316de4fe69"
  }
 ],
 "metadata": {
  "kernelspec": {
   "display_name": "Python 3",
   "language": "python",
   "name": "python3"
  },
  "language_info": {
   "codemirror_mode": {
    "name": "ipython",
    "version": 2
   },
   "file_extension": ".py",
   "mimetype": "text/x-python",
   "name": "python",
   "nbconvert_exporter": "python",
   "pygments_lexer": "ipython2",
   "version": "2.7.6"
  }
 },
 "nbformat": 4,
 "nbformat_minor": 5
}
